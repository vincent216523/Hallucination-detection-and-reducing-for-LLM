{
 "cells": [
  {
   "cell_type": "code",
   "execution_count": 1,
   "id": "959ba918-af3a-43b1-8980-5b522e5fbf3e",
   "metadata": {
    "tags": []
   },
   "outputs": [],
   "source": [
    "import pickle\n",
    "from pathlib import Path\n",
    "import numpy as np\n",
    "import scipy as sp\n",
    "import pandas as pd\n",
    "import glob\n",
    "\n",
    "import torch\n",
    "from sklearn.model_selection import train_test_split\n",
    "from sklearn.metrics import roc_auc_score\n",
    "import random\n",
    "\n",
    "from tqdm import tqdm\n",
    "\n",
    "gpu = \"0\"\n",
    "device = torch.device(f\"cuda:{gpu}\" if torch.cuda.is_available() else \"cpu\")"
   ]
  },
  {
   "cell_type": "code",
   "execution_count": 2,
   "id": "c5ec1076",
   "metadata": {},
   "outputs": [],
   "source": [
    "ig_inference_results = glob.glob(\"results/NEW*_4_*.pickle\")\n",
    "new_inference_results = glob.glob(\"results/NEW*_5_*.pickle\")"
   ]
  },
  {
   "cell_type": "code",
   "execution_count": 3,
   "id": "e1ec5248",
   "metadata": {},
   "outputs": [],
   "source": [
    "Q = []\n",
    "X = []\n",
    "y = []\n",
    "for path in ig_inference_results:\n",
    "    with open(path, \"rb\") as infile:\n",
    "        results = pickle.loads(infile.read())\n",
    "    Q.extend(results['question'])\n",
    "    X.extend(results['attributes_first'])\n",
    "    y.extend(results['correct'])\n",
    "    \n",
    "old = pd.DataFrame({\"question\": Q, \"attributes_first\": X, \"correct\": y})\n",
    "\n",
    "Q = []\n",
    "X = []\n",
    "y = []\n",
    "for path in new_inference_results:\n",
    "    with open(path, \"rb\") as infile:\n",
    "        results = pickle.loads(infile.read())\n",
    "    Q.extend(results['question'])\n",
    "    X.extend(results['saliency'])\n",
    "    y.extend(results['input_x_gradient'])\n",
    "    \n",
    "new = pd.DataFrame({\"question\": Q, \"saliency\": X, \"input_x_gradient\": y})"
   ]
  },
  {
   "cell_type": "code",
   "execution_count": 4,
   "id": "7294400f",
   "metadata": {},
   "outputs": [],
   "source": [
    "md = old.merge(new, on='question', how='left')"
   ]
  },
  {
   "cell_type": "code",
   "execution_count": 5,
   "id": "04797fd8",
   "metadata": {},
   "outputs": [],
   "source": [
    "X = md['attributes_first'].to_list()\n",
    "y = md['correct'].to_list()"
   ]
  },
  {
   "cell_type": "markdown",
   "id": "4d7766f3",
   "metadata": {},
   "source": [
    "# Model Training"
   ]
  },
  {
   "cell_type": "code",
   "execution_count": null,
   "id": "4805fd5d-8502-465b-8397-b3ccff3ff591",
   "metadata": {
    "tags": []
   },
   "outputs": [],
   "source": [
    "num_epochs = 250\n",
    "learning_rate = 1e-4\n",
    "weight_decay = 1e-2\n",
    "\n",
    "class RNNHallucinationClassifier(torch.nn.Module):\n",
    "    def __init__(self, dropout=0.25):\n",
    "        super().__init__()\n",
    "        hidden_dim = 128\n",
    "        num_layers = 4\n",
    "        self.gru = torch.nn.GRU(1, hidden_dim, num_layers, dropout=dropout, batch_first=True, bidirectional=False)\n",
    "        self.linear = torch.nn.Linear(hidden_dim, 2)\n",
    "    \n",
    "    def forward(self, seq):\n",
    "        gru_out, _ = self.gru(seq)\n",
    "        return self.linear(gru_out)[-1, -1, :]\n",
    "    \n",
    "rnn_model = RNNHallucinationClassifier().to(device)\n",
    "optimizer = torch.optim.AdamW(rnn_model.parameters(), lr=learning_rate, weight_decay=weight_decay)\n",
    "\n",
    "X_train, X_test, y_train, y_test = train_test_split(X, y, test_size = 0.2, random_state=21)"
   ]
  },
  {
   "cell_type": "code",
   "execution_count": null,
   "metadata": {},
   "outputs": [],
   "source": [
    "rnn_model.train()\n",
    "for step in tqdm(range(num_epochs)):\n",
    "    optimizer.zero_grad()\n",
    "    preds = torch.stack([rnn_model(torch.tensor(i).view(1, -1, 1).to(torch.float).to(device)) for i in X_train])\n",
    "    loss = torch.nn.functional.cross_entropy(preds, torch.tensor(y_train).to(torch.long).to(device))\n",
    "    loss.backward()\n",
    "    optimizer.step()"
   ]
  },
  {
   "cell_type": "code",
   "execution_count": 11,
   "id": "39936b60",
   "metadata": {},
   "outputs": [],
   "source": [
    "# Save the entire model\n",
    "torch.save(rnn_model, 'IG_RNN_classifier.pth')"
   ]
  },
  {
   "cell_type": "markdown",
   "id": "aed6e324",
   "metadata": {},
   "source": [
    "# Result"
   ]
  },
  {
   "cell_type": "code",
   "execution_count": 6,
   "id": "356206c1",
   "metadata": {},
   "outputs": [],
   "source": [
    "IG_rnn_model = torch.load('IG_RNN_classifier.pth', weights_only=False).to(device)"
   ]
  },
  {
   "cell_type": "code",
   "execution_count": 8,
   "id": "ab7d19cb",
   "metadata": {},
   "outputs": [],
   "source": [
    "classifier_results = {}\n",
    "\n",
    "IG_rnn_model.eval()\n",
    "\n",
    "preds = torch.stack([IG_rnn_model(torch.tensor(i).view(1, -1, 1).to(torch.float).to(device)) for i in X_test])\n",
    "preds = torch.nn.functional.softmax(preds, dim=1)\n",
    "prediction_classes = (preds[:,1]>0.5).type(torch.long).cpu()\n",
    "classifier_results['attribution_rnn_roc'] = roc_auc_score(y_test, preds[:,1].detach().cpu().numpy())\n",
    "classifier_results['attribution_rnn_acc'] = (prediction_classes.numpy()==y_test).mean()"
   ]
  },
  {
   "cell_type": "code",
   "execution_count": 9,
   "id": "8fc46c87",
   "metadata": {},
   "outputs": [
    {
     "data": {
      "text/plain": [
       "{'attribution_rnn_roc': np.float64(0.6109626503245111),\n",
       " 'attribution_rnn_acc': np.float64(0.5972222222222222)}"
      ]
     },
     "execution_count": 9,
     "metadata": {},
     "output_type": "execute_result"
    }
   ],
   "source": [
    "classifier_results"
   ]
  },
  {
   "cell_type": "markdown",
   "id": "6346d50a",
   "metadata": {},
   "source": [
    "# Saliency"
   ]
  },
  {
   "cell_type": "code",
   "execution_count": 6,
   "id": "9e07ea78",
   "metadata": {},
   "outputs": [],
   "source": [
    "X = md['saliency'].to_list()\n",
    "y = md['correct'].to_list()"
   ]
  },
  {
   "cell_type": "code",
   "execution_count": 7,
   "id": "6c45a4e0",
   "metadata": {},
   "outputs": [],
   "source": [
    "num_epochs = 250\n",
    "learning_rate = 1e-4\n",
    "weight_decay = 1e-2\n",
    "\n",
    "class RNNHallucinationClassifier(torch.nn.Module):\n",
    "    def __init__(self, dropout=0.25):\n",
    "        super().__init__()\n",
    "        hidden_dim = 128\n",
    "        num_layers = 4\n",
    "        self.gru = torch.nn.GRU(1, hidden_dim, num_layers, dropout=dropout, batch_first=True, bidirectional=False)\n",
    "        self.linear = torch.nn.Linear(hidden_dim, 2)\n",
    "    \n",
    "    def forward(self, seq):\n",
    "        gru_out, _ = self.gru(seq)\n",
    "        return self.linear(gru_out)[-1, -1, :]\n",
    "    \n",
    "rnn_model = RNNHallucinationClassifier().to(device)\n",
    "optimizer = torch.optim.AdamW(rnn_model.parameters(), lr=learning_rate, weight_decay=weight_decay)\n",
    "\n",
    "X_train, X_test, y_train, y_test = train_test_split(X, y, test_size = 0.2, random_state=21)"
   ]
  },
  {
   "cell_type": "code",
   "execution_count": 8,
   "id": "7b057fd0",
   "metadata": {},
   "outputs": [
    {
     "name": "stderr",
     "output_type": "stream",
     "text": [
      "100%|██████████| 250/250 [56:08<00:00, 13.47s/it]\n"
     ]
    }
   ],
   "source": [
    "rnn_model.train()\n",
    "for step in tqdm(range(num_epochs)):\n",
    "    optimizer.zero_grad()\n",
    "    preds = torch.stack([rnn_model(torch.tensor(i).view(1, -1, 1).to(torch.float).to(device)) for i in X_train])\n",
    "    loss = torch.nn.functional.cross_entropy(preds, torch.tensor(y_train).to(torch.long).to(device))\n",
    "    loss.backward()\n",
    "    optimizer.step()"
   ]
  },
  {
   "cell_type": "code",
   "execution_count": null,
   "id": "7f0b8dc9",
   "metadata": {},
   "outputs": [
    {
     "data": {
      "text/plain": [
       "{'attribution_rnn_roc': np.float64(0.6075690788677222),\n",
       " 'attribution_rnn_acc': np.float64(0.6005555555555555)}"
      ]
     },
     "execution_count": 12,
     "metadata": {},
     "output_type": "execute_result"
    }
   ],
   "source": [
    "classifier_results = {}\n",
    "\n",
    "rnn_model.eval()\n",
    "\n",
    "preds = torch.stack([rnn_model(torch.tensor(i).view(1, -1, 1).to(torch.float).to(device)) for i in X_test])\n",
    "preds = torch.nn.functional.softmax(preds, dim=1)\n",
    "prediction_classes = (preds[:,1]>0.5).type(torch.long).cpu()\n",
    "\n",
    "classifier_results['attribution_rnn_roc'] = roc_auc_score(y_test, preds[:,1].detach().cpu().numpy())\n",
    "classifier_results['attribution_rnn_acc'] = (prediction_classes.numpy()==y_test).mean()\n",
    "classifier_results"
   ]
  },
  {
   "cell_type": "markdown",
   "id": "4ef872b9",
   "metadata": {},
   "source": [
    "# input_x_gradient"
   ]
  },
  {
   "cell_type": "code",
   "execution_count": 13,
   "id": "0c7d5da2",
   "metadata": {},
   "outputs": [],
   "source": [
    "X = md['input_x_gradient'].to_list()\n",
    "y = md['correct'].to_list()"
   ]
  },
  {
   "cell_type": "code",
   "execution_count": 14,
   "id": "c23aff95",
   "metadata": {},
   "outputs": [],
   "source": [
    "num_epochs = 250\n",
    "learning_rate = 1e-4\n",
    "weight_decay = 1e-2\n",
    "\n",
    "class RNNHallucinationClassifier(torch.nn.Module):\n",
    "    def __init__(self, dropout=0.25):\n",
    "        super().__init__()\n",
    "        hidden_dim = 128\n",
    "        num_layers = 4\n",
    "        self.gru = torch.nn.GRU(1, hidden_dim, num_layers, dropout=dropout, batch_first=True, bidirectional=False)\n",
    "        self.linear = torch.nn.Linear(hidden_dim, 2)\n",
    "    \n",
    "    def forward(self, seq):\n",
    "        gru_out, _ = self.gru(seq)\n",
    "        return self.linear(gru_out)[-1, -1, :]\n",
    "    \n",
    "rnn_model = RNNHallucinationClassifier().to(device)\n",
    "optimizer = torch.optim.AdamW(rnn_model.parameters(), lr=learning_rate, weight_decay=weight_decay)\n",
    "\n",
    "X_train, X_test, y_train, y_test = train_test_split(X, y, test_size = 0.2, random_state=21)"
   ]
  },
  {
   "cell_type": "code",
   "execution_count": 15,
   "id": "d1231dc5",
   "metadata": {},
   "outputs": [
    {
     "name": "stderr",
     "output_type": "stream",
     "text": [
      "100%|██████████| 250/250 [55:34<00:00, 13.34s/it]\n"
     ]
    }
   ],
   "source": [
    "rnn_model.train()\n",
    "for step in tqdm(range(num_epochs)):\n",
    "    optimizer.zero_grad()\n",
    "    preds = torch.stack([rnn_model(torch.tensor(i).view(1, -1, 1).to(torch.float).to(device)) for i in X_train])\n",
    "    loss = torch.nn.functional.cross_entropy(preds, torch.tensor(y_train).to(torch.long).to(device))\n",
    "    loss.backward()\n",
    "    optimizer.step()"
   ]
  },
  {
   "cell_type": "code",
   "execution_count": 16,
   "id": "31fc07db",
   "metadata": {},
   "outputs": [
    {
     "data": {
      "text/plain": [
       "{'attribution_rnn_roc': np.float64(0.6107160652411883),\n",
       " 'attribution_rnn_acc': np.float64(0.6044444444444445)}"
      ]
     },
     "execution_count": 16,
     "metadata": {},
     "output_type": "execute_result"
    }
   ],
   "source": [
    "classifier_results = {}\n",
    "\n",
    "rnn_model.eval()\n",
    "\n",
    "preds = torch.stack([rnn_model(torch.tensor(i).view(1, -1, 1).to(torch.float).to(device)) for i in X_test])\n",
    "preds = torch.nn.functional.softmax(preds, dim=1)\n",
    "prediction_classes = (preds[:,1]>0.5).type(torch.long).cpu()\n",
    "classifier_results['attribution_rnn_roc'] = roc_auc_score(y_test, preds[:,1].detach().cpu().numpy())\n",
    "classifier_results['attribution_rnn_acc'] = (prediction_classes.numpy()==y_test).mean()\n",
    "classifier_results"
   ]
  }
 ],
 "metadata": {
  "kernelspec": {
   "display_name": "hallucination",
   "language": "python",
   "name": "python3"
  },
  "language_info": {
   "codemirror_mode": {
    "name": "ipython",
    "version": 3
   },
   "file_extension": ".py",
   "mimetype": "text/x-python",
   "name": "python",
   "nbconvert_exporter": "python",
   "pygments_lexer": "ipython3",
   "version": "3.10.16"
  }
 },
 "nbformat": 4,
 "nbformat_minor": 5
}
